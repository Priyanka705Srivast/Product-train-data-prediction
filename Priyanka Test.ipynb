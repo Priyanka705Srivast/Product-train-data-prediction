{
 "cells": [
  {
   "cell_type": "code",
   "execution_count": 180,
   "id": "d410ebf5",
   "metadata": {},
   "outputs": [],
   "source": [
    "import pandas as pd"
   ]
  },
  {
   "cell_type": "code",
   "execution_count": 181,
   "id": "170be293",
   "metadata": {},
   "outputs": [],
   "source": [
    "import matplotlib.pyplot as plt\n",
    "import seaborn as sns"
   ]
  },
  {
   "cell_type": "code",
   "execution_count": 182,
   "id": "f27d351e",
   "metadata": {},
   "outputs": [],
   "source": [
    "train_data = pd.read_csv('train_product_data.csv')"
   ]
  },
  {
   "cell_type": "code",
   "execution_count": 183,
   "id": "faea3cbc",
   "metadata": {},
   "outputs": [
    {
     "name": "stdout",
     "output_type": "stream",
     "text": [
      "                            uniq_id            crawl_timestamp  \\\n",
      "0  c2d766ca982eca8304150849735ffef9  2016-03-25 22:59:23 +0000   \n",
      "1  f449ec65dcbc041b6ae5e6a32717d01b  2016-03-25 22:59:23 +0000   \n",
      "2  0973b37acd0c664e3de26e97e5571454  2016-03-25 22:59:23 +0000   \n",
      "3  ce5a6818f7707e2cb61fdcdbba61f5ad  2016-03-25 22:59:23 +0000   \n",
      "4  29c8d290caa451f97b1c32df64477a2c  2016-03-25 22:59:23 +0000   \n",
      "\n",
      "                                         product_url  \\\n",
      "0  http://www.flipkart.com/alisha-solid-women-s-c...   \n",
      "1  http://www.flipkart.com/aw-bellies/p/itmeh4grg...   \n",
      "2  http://www.flipkart.com/alisha-solid-women-s-c...   \n",
      "3  http://www.flipkart.com/alisha-solid-women-s-c...   \n",
      "4  http://www.flipkart.com/dilli-bazaaar-bellies-...   \n",
      "\n",
      "                                        product_name product_category_tree  \\\n",
      "0                Alisha Solid Women's Cycling Shorts              Clothing   \n",
      "1                                         AW Bellies              Footwear   \n",
      "2                Alisha Solid Women's Cycling Shorts              Clothing   \n",
      "3                Alisha Solid Women's Cycling Shorts              Clothing   \n",
      "4  dilli bazaaar Bellies, Corporate Casuals, Casuals              Footwear   \n",
      "\n",
      "                pid  retail_price  discounted_price  \\\n",
      "0  SRTEH2FF9KEDEFGF         999.0             379.0   \n",
      "1  SHOEH4GRSUBJGZXE         999.0             499.0   \n",
      "2  SRTEH2F6HUZMQ6SJ         699.0             267.0   \n",
      "3  SRTEH2FVVKRBAXHB        1199.0             479.0   \n",
      "4  SHOEH3DZBFR88SCK         699.0             349.0   \n",
      "\n",
      "                                               image  is_FK_Advantage_product  \\\n",
      "0  [\"http://img5a.flixcart.com/image/short/u/4/a/...                    False   \n",
      "1  [\"http://img5a.flixcart.com/image/shoe/7/z/z/r...                    False   \n",
      "2  [\"http://img5a.flixcart.com/image/short/6/2/h/...                    False   \n",
      "3  [\"http://img6a.flixcart.com/image/short/p/j/z/...                    False   \n",
      "4  [\"http://img6a.flixcart.com/image/shoe/b/p/n/p...                    False   \n",
      "\n",
      "                                         description       product_rating  \\\n",
      "0  Key Features of Alisha Solid Women's Cycling S...  No rating available   \n",
      "1  Key Features of AW Bellies Sandals Wedges Heel...  No rating available   \n",
      "2  Key Features of Alisha Solid Women's Cycling S...  No rating available   \n",
      "3  Key Features of Alisha Solid Women's Cycling S...  No rating available   \n",
      "4  Key Features of dilli bazaaar Bellies, Corpora...  No rating available   \n",
      "\n",
      "        overall_rating          brand  \\\n",
      "0  No rating available         Alisha   \n",
      "1  No rating available             AW   \n",
      "2  No rating available         Alisha   \n",
      "3  No rating available         Alisha   \n",
      "4  No rating available  dilli bazaaar   \n",
      "\n",
      "                              product_specifications  \n",
      "0  {\"product_specification\"=>[{\"key\"=>\"Number of ...  \n",
      "1  {\"product_specification\"=>[{\"key\"=>\"Ideal For\"...  \n",
      "2  {\"product_specification\"=>[{\"key\"=>\"Number of ...  \n",
      "3  {\"product_specification\"=>[{\"key\"=>\"Number of ...  \n",
      "4  {\"product_specification\"=>[{\"key\"=>\"Occasion\",...  \n"
     ]
    }
   ],
   "source": [
    "print(train_data.head())"
   ]
  },
  {
   "cell_type": "code",
   "execution_count": 184,
   "id": "4cf8f049",
   "metadata": {},
   "outputs": [],
   "source": [
    "test_data = pd.read_csv('test_data.csv')"
   ]
  },
  {
   "cell_type": "code",
   "execution_count": 185,
   "id": "5405f86b",
   "metadata": {},
   "outputs": [
    {
     "name": "stdout",
     "output_type": "stream",
     "text": [
      "                            uniq_id            crawl_timestamp  \\\n",
      "0  4fb99d98225f415e7ece96938e95628f  2015-12-20 08:26:17 +0000   \n",
      "1  4ea284c8d38b2ea97a1c2a26f34e057c  2015-12-20 08:26:17 +0000   \n",
      "2  ee6ce2c7045c54257e2a0b590e09c296  2015-12-20 08:26:17 +0000   \n",
      "3  e797ba3b5f2e2d1fdc520e48486ab60e  2015-12-20 08:26:17 +0000   \n",
      "4  f4d8d43858c8858c68d75ce07ac641c0  2015-12-20 08:26:17 +0000   \n",
      "\n",
      "                                         product_url  \\\n",
      "0  http://www.flipkart.com/v-v-art-brass-bracelet...   \n",
      "1  http://www.flipkart.com/kalpaveda-copper-cuff/...   \n",
      "2  http://www.flipkart.com/thelostpuppy-book-cove...   \n",
      "3  http://www.flipkart.com/riana-copper-bangle/p/...   \n",
      "4  http://www.flipkart.com/inox-jewelry-stainless...   \n",
      "\n",
      "                                 product_name               pid  retail_price  \\\n",
      "0                      V&V ART Brass Bracelet  BBAE6NYHCDTEZJTB         470.0   \n",
      "1                Kalpaveda Copper Copper Cuff  BBAEDFFKZJTY7SZZ        1200.0   \n",
      "2  Thelostpuppy Book Cover for Apple iPad Air  ACCEA4DZH6M5SFVH        2199.0   \n",
      "3                  Riana Copper Copper Bangle  BBAEAXFQHHMF3EYZ        2499.0   \n",
      "4           Inox Jewelry Stainless Steel Cuff  BBAECH63WYDG6TE2        1629.0   \n",
      "\n",
      "   discounted_price                                              image  \\\n",
      "0             423.0  [\"http://img6a.flixcart.com/image/bangle-brace...   \n",
      "1            1200.0  [\"http://img6a.flixcart.com/image/bangle-brace...   \n",
      "2             599.0  [\"http://img5a.flixcart.com/image/cases-covers...   \n",
      "3             649.0  [\"http://img5a.flixcart.com/image/bangle-brace...   \n",
      "4            1222.0  [\"http://img6a.flixcart.com/image/bangle-brace...   \n",
      "\n",
      "   is_FK_Advantage_product                                        description  \\\n",
      "0                    False  V&V ART Brass Bracelet - Buy V&V ART Brass Bra...   \n",
      "1                    False  Kalpaveda Copper Copper Cuff\\n                ...   \n",
      "2                    False  Thelostpuppy Book Cover for Apple iPad Air (Mu...   \n",
      "3                    False  Riana Copper Copper Bangle - Buy Riana Copper ...   \n",
      "4                    False  Inox Jewelry Stainless Steel Cuff\\n           ...   \n",
      "\n",
      "        product_rating       overall_rating         brand  \\\n",
      "0  No rating available  No rating available       V&V ART   \n",
      "1  No rating available  No rating available     Kalpaveda   \n",
      "2  No rating available  No rating available  Thelostpuppy   \n",
      "3                    5                    5         Riana   \n",
      "4  No rating available  No rating available  Inox Jewelry   \n",
      "\n",
      "                              product_specifications  \n",
      "0  {\"product_specification\"=>[{\"key\"=>\"Brand\", \"v...  \n",
      "1  {\"product_specification\"=>[{\"key\"=>\"Stretchabl...  \n",
      "2  {\"product_specification\"=>[{\"key\"=>\"Brand\", \"v...  \n",
      "3  {\"product_specification\"=>[{\"key\"=>\"Collection...  \n",
      "4  {\"product_specification\"=>[{\"key\"=>\"Stretchabl...  \n"
     ]
    }
   ],
   "source": [
    "print(test_data.head())"
   ]
  },
  {
   "cell_type": "code",
   "execution_count": 186,
   "id": "af1a0112",
   "metadata": {},
   "outputs": [],
   "source": [
    "test_results = pd.read_csv('test_results.csv')"
   ]
  },
  {
   "cell_type": "code",
   "execution_count": 187,
   "id": "28847ba1",
   "metadata": {},
   "outputs": [
    {
     "name": "stdout",
     "output_type": "stream",
     "text": [
      "    product_category_tree\n",
      "0              Jewellery \n",
      "1              Jewellery \n",
      "2  Mobiles & Accessories \n",
      "3              Jewellery \n",
      "4              Jewellery \n"
     ]
    }
   ],
   "source": [
    "print(test_results.head())"
   ]
  },
  {
   "cell_type": "code",
   "execution_count": 188,
   "id": "4b773c30",
   "metadata": {},
   "outputs": [],
   "source": [
    "category_counts = train_data['product_category_tree'].value_counts()"
   ]
  },
  {
   "cell_type": "code",
   "execution_count": 189,
   "id": "26aa6fe5",
   "metadata": {},
   "outputs": [],
   "source": [
    "category_counts_df = category_counts.reset_index()\n",
    "category_counts_df.columns = ['Product Category', 'Count']"
   ]
  },
  {
   "cell_type": "code",
   "execution_count": 190,
   "id": "13488308",
   "metadata": {},
   "outputs": [
    {
     "data": {
      "text/plain": [
       "<Axes: xlabel='Count', ylabel='Product Category'>"
      ]
     },
     "execution_count": 190,
     "metadata": {},
     "output_type": "execute_result"
    },
    {
     "data": {
      "image/png": "[encoded data removed]",
      "text/plain": [
       "<Figure size 640x480 with 1 Axes>"
      ]
     },
     "metadata": {},
     "output_type": "display_data"
    }
   ],
   "source": [
    "sns.barplot(x='Count', y='Product Category', data=category_counts_df, palette='viridis')\n"
   ]
  },
  {
   "cell_type": "code",
   "execution_count": 191,
   "id": "fbc454c6",
   "metadata": {},
   "outputs": [
    {
     "data": {
      "text/plain": [
       "<Figure size 1200x800 with 0 Axes>"
      ]
     },
     "execution_count": 191,
     "metadata": {},
     "output_type": "execute_result"
    },
    {
     "data": {
      "text/plain": [
       "<Figure size 1200x800 with 0 Axes>"
      ]
     },
     "metadata": {},
     "output_type": "display_data"
    }
   ],
   "source": [
    "plt.figure(figsize=(12, 8))"
   ]
  },
  {
   "cell_type": "code",
   "execution_count": 192,
   "id": "6dfc4551",
   "metadata": {},
   "outputs": [
    {
     "name": "stdout",
     "output_type": "stream",
     "text": [
      "<class 'pandas.core.frame.DataFrame'>\n",
      "RangeIndex: 14999 entries, 0 to 14998\n",
      "Data columns (total 15 columns):\n",
      " #   Column                   Non-Null Count  Dtype  \n",
      "---  ------                   --------------  -----  \n",
      " 0   uniq_id                  14999 non-null  object \n",
      " 1   crawl_timestamp          14999 non-null  object \n",
      " 2   product_url              14999 non-null  object \n",
      " 3   product_name             14999 non-null  object \n",
      " 4   product_category_tree    14999 non-null  object \n",
      " 5   pid                      14999 non-null  object \n",
      " 6   retail_price             14942 non-null  float64\n",
      " 7   discounted_price         14942 non-null  float64\n",
      " 8   image                    14996 non-null  object \n",
      " 9   is_FK_Advantage_product  14999 non-null  bool   \n",
      " 10  description              14998 non-null  object \n",
      " 11  product_rating           14999 non-null  object \n",
      " 12  overall_rating           14999 non-null  object \n",
      " 13  brand                    10289 non-null  object \n",
      " 14  product_specifications   14993 non-null  object \n",
      "dtypes: bool(1), float64(2), object(12)\n",
      "memory usage: 1.6+ MB\n",
      "None\n"
     ]
    }
   ],
   "source": [
    "print(train_data.info())"
   ]
  },
  {
   "cell_type": "code",
   "execution_count": 193,
   "id": "55fe33c4",
   "metadata": {},
   "outputs": [
    {
     "name": "stdout",
     "output_type": "stream",
     "text": [
      "        retail_price  discounted_price\n",
      "count   14942.000000      14942.000000\n",
      "mean     3128.424040       2087.732298\n",
      "std      9154.463342       7712.247869\n",
      "min        35.000000         35.000000\n",
      "25%       699.000000        349.000000\n",
      "50%      1000.000000        499.000000\n",
      "75%      1989.750000        999.000000\n",
      "max    571230.000000     571230.000000\n"
     ]
    }
   ],
   "source": [
    "print(train_data.describe())"
   ]
  },
  {
   "cell_type": "code",
   "execution_count": 194,
   "id": "3e6ccd15",
   "metadata": {},
   "outputs": [
    {
     "name": "stdout",
     "output_type": "stream",
     "text": [
      "uniq_id                       0\n",
      "crawl_timestamp               0\n",
      "product_url                   0\n",
      "product_name                  0\n",
      "product_category_tree         0\n",
      "pid                           0\n",
      "retail_price                 57\n",
      "discounted_price             57\n",
      "image                         3\n",
      "is_FK_Advantage_product       0\n",
      "description                   1\n",
      "product_rating                0\n",
      "overall_rating                0\n",
      "brand                      4710\n",
      "product_specifications        6\n",
      "dtype: int64\n"
     ]
    }
   ],
   "source": [
    "print(train_data.isnull().sum())"
   ]
  },
  {
   "cell_type": "code",
   "execution_count": 195,
   "id": "0df3ec10",
   "metadata": {},
   "outputs": [
    {
     "name": "stdout",
     "output_type": "stream",
     "text": [
      "product_category_tree\n",
      "Clothing                      5316\n",
      "Jewellery                     3218\n",
      "Footwear                      1083\n",
      "Automotive                     937\n",
      "Mobiles & Accessories          768\n",
      "Home Decor & Festive Needs     714\n",
      "Kitchen & Dining               610\n",
      "Computers                      531\n",
      "Watches                        526\n",
      "Tools & Hardware               379\n",
      "Toys & School Supplies         271\n",
      "Pens & Stationery              264\n",
      "Baby Care                      224\n",
      "Bags, Wallets & Belts          158\n",
      "Name: count, dtype: int64\n"
     ]
    }
   ],
   "source": [
    "print(train_data['product_category_tree'].value_counts())"
   ]
  },
  {
   "cell_type": "code",
   "execution_count": 196,
   "id": "c57a8b69",
   "metadata": {},
   "outputs": [],
   "source": [
    "train_data['retail_price'].fillna(train_data['retail_price'].median(), inplace=True)"
   ]
  },
  {
   "cell_type": "code",
   "execution_count": 197,
   "id": "735298fd",
   "metadata": {},
   "outputs": [],
   "source": [
    "train_data['discounted_price'].fillna(train_data['discounted_price'].median(), inplace=True)"
   ]
  },
  {
   "cell_type": "code",
   "execution_count": 198,
   "id": "9fc6d69d",
   "metadata": {},
   "outputs": [],
   "source": [
    "most_frequent_value = train_data['brand'].mode()[0] \n",
    "train_data['brand'].fillna(most_frequent_value, inplace=True)"
   ]
  },
  {
   "cell_type": "code",
   "execution_count": 199,
   "id": "58cc895d",
   "metadata": {},
   "outputs": [],
   "source": [
    "most_frequent_value = train_data['product_specifications'].mode()[0] \n",
    "train_data['product_specifications'].fillna(most_frequent_value, inplace=True)"
   ]
  },
  {
   "cell_type": "code",
   "execution_count": 200,
   "id": "bac6e464",
   "metadata": {},
   "outputs": [],
   "source": [
    "most_frequent_value = train_data['image'].mode()[0] \n",
    "train_data['image'].fillna(most_frequent_value, inplace=True)"
   ]
  },
  {
   "cell_type": "code",
   "execution_count": 201,
   "id": "ef88e1c9",
   "metadata": {},
   "outputs": [],
   "source": [
    "most_frequent_value = train_data['description'].mode()[0] \n",
    "train_data['description'].fillna(most_frequent_value, inplace=True)"
   ]
  },
  {
   "cell_type": "code",
   "execution_count": 202,
   "id": "ce2a86f3",
   "metadata": {},
   "outputs": [
    {
     "name": "stdout",
     "output_type": "stream",
     "text": [
      "uniq_id                    0\n",
      "crawl_timestamp            0\n",
      "product_url                0\n",
      "product_name               0\n",
      "product_category_tree      0\n",
      "pid                        0\n",
      "retail_price               0\n",
      "discounted_price           0\n",
      "image                      0\n",
      "is_FK_Advantage_product    0\n",
      "description                0\n",
      "product_rating             0\n",
      "overall_rating             0\n",
      "brand                      0\n",
      "product_specifications     0\n",
      "dtype: int64\n"
     ]
    }
   ],
   "source": [
    "print(train_data.isnull().sum())"
   ]
  },
  {
   "cell_type": "code",
   "execution_count": 203,
   "id": "4cd34077",
   "metadata": {},
   "outputs": [
    {
     "name": "stdout",
     "output_type": "stream",
     "text": [
      "uniq_id                     object\n",
      "crawl_timestamp             object\n",
      "product_url                 object\n",
      "product_name                object\n",
      "product_category_tree       object\n",
      "pid                         object\n",
      "retail_price               float64\n",
      "discounted_price           float64\n",
      "image                       object\n",
      "is_FK_Advantage_product       bool\n",
      "description                 object\n",
      "product_rating              object\n",
      "overall_rating              object\n",
      "brand                       object\n",
      "product_specifications      object\n",
      "dtype: object\n"
     ]
    }
   ],
   "source": [
    "print(train_data.dtypes)"
   ]
  },
  {
   "cell_type": "code",
   "execution_count": 204,
   "id": "6252504b",
   "metadata": {},
   "outputs": [
    {
     "name": "stdout",
     "output_type": "stream",
     "text": [
      "<class 'pandas.core.frame.DataFrame'>\n",
      "RangeIndex: 14999 entries, 0 to 14998\n",
      "Data columns (total 15 columns):\n",
      " #   Column                   Non-Null Count  Dtype  \n",
      "---  ------                   --------------  -----  \n",
      " 0   uniq_id                  14999 non-null  object \n",
      " 1   crawl_timestamp          14999 non-null  object \n",
      " 2   product_url              14999 non-null  object \n",
      " 3   product_name             14999 non-null  object \n",
      " 4   product_category_tree    14999 non-null  object \n",
      " 5   pid                      14999 non-null  object \n",
      " 6   retail_price             14999 non-null  float64\n",
      " 7   discounted_price         14999 non-null  float64\n",
      " 8   image                    14999 non-null  object \n",
      " 9   is_FK_Advantage_product  14999 non-null  bool   \n",
      " 10  description              14999 non-null  object \n",
      " 11  product_rating           14999 non-null  object \n",
      " 12  overall_rating           14999 non-null  object \n",
      " 13  brand                    14999 non-null  object \n",
      " 14  product_specifications   14999 non-null  object \n",
      "dtypes: bool(1), float64(2), object(12)\n",
      "memory usage: 1.6+ MB\n"
     ]
    }
   ],
   "source": [
    "train_data.info()"
   ]
  },
  {
   "cell_type": "code",
   "execution_count": 205,
   "id": "ae3f1062",
   "metadata": {},
   "outputs": [],
   "source": [
    "from sklearn.preprocessing import LabelEncoder"
   ]
  },
  {
   "cell_type": "code",
   "execution_count": 206,
   "id": "2f7e692a",
   "metadata": {},
   "outputs": [],
   "source": [
    "le = LabelEncoder()\n",
    "train_data['brand_encoded'] = le.fit_transform(train_data['brand'])"
   ]
  },
  {
   "cell_type": "code",
   "execution_count": 207,
   "id": "95a382e4",
   "metadata": {},
   "outputs": [],
   "source": [
    "from sklearn.ensemble import RandomForestClassifier"
   ]
  },
  {
   "cell_type": "code",
   "execution_count": 208,
   "id": "af3f2754",
   "metadata": {},
   "outputs": [],
   "source": [
    "X = train_data[['retail_price', 'discounted_price','brand_encoded']]\n",
    "y = train_data['product_category_tree']"
   ]
  },
  {
   "cell_type": "code",
   "execution_count": 209,
   "id": "0fbf1a6c",
   "metadata": {},
   "outputs": [],
   "source": [
    "X_train, X_val, y_train, y_val = train_test_split(X, y, test_size=0.2, random_state=42)"
   ]
  },
  {
   "cell_type": "code",
   "execution_count": 210,
   "id": "f432f13a",
   "metadata": {},
   "outputs": [],
   "source": [
    "from sklearn.ensemble import RandomForestClassifier\n",
    "from sklearn.metrics import accuracy_score\n"
   ]
  },
  {
   "cell_type": "code",
   "execution_count": 211,
   "id": "08dcc701",
   "metadata": {},
   "outputs": [
    {
     "data": {
      "text/html": [
       "<style>#sk-container-id-9 {color: black;}#sk-container-id-9 pre{padding: 0;}#sk-container-id-9 div.sk-toggleable {background-color: white;}#sk-container-id-9 label.sk-toggleable__label {cursor: pointer;display: block;width: 100%;margin-bottom: 0;padding: 0.3em;box-sizing: border-box;text-align: center;}#sk-container-id-9 label.sk-toggleable__label-arrow:before {content: \"▸\";float: left;margin-right: 0.25em;color: #696969;}#sk-container-id-9 label.sk-toggleable__label-arrow:hover:before {color: black;}#sk-container-id-9 div.sk-estimator:hover label.sk-toggleable__label-arrow:before {color: black;}#sk-container-id-9 div.sk-toggleable__content {max-height: 0;max-width: 0;overflow: hidden;text-align: left;background-color: #f0f8ff;}#sk-container-id-9 div.sk-toggleable__content pre {margin: 0.2em;color: black;border-radius: 0.25em;background-color: #f0f8ff;}#sk-container-id-9 input.sk-toggleable__control:checked~div.sk-toggleable__content {max-height: 200px;max-width: 100%;overflow: auto;}#sk-container-id-9 input.sk-toggleable__control:checked~label.sk-toggleable__label-arrow:before {content: \"▾\";}#sk-container-id-9 div.sk-estimator input.sk-toggleable__control:checked~label.sk-toggleable__label {background-color: #d4ebff;}#sk-container-id-9 div.sk-label input.sk-toggleable__control:checked~label.sk-toggleable__label {background-color: #d4ebff;}#sk-container-id-9 input.sk-hidden--visually {border: 0;clip: rect(1px 1px 1px 1px);clip: rect(1px, 1px, 1px, 1px);height: 1px;margin: -1px;overflow: hidden;padding: 0;position: absolute;width: 1px;}#sk-container-id-9 div.sk-estimator {font-family: monospace;background-color: #f0f8ff;border: 1px dotted black;border-radius: 0.25em;box-sizing: border-box;margin-bottom: 0.5em;}#sk-container-id-9 div.sk-estimator:hover {background-color: #d4ebff;}#sk-container-id-9 div.sk-parallel-item::after {content: \"\";width: 100%;border-bottom: 1px solid gray;flex-grow: 1;}#sk-container-id-9 div.sk-label:hover label.sk-toggleable__label {background-color: #d4ebff;}#sk-container-id-9 div.sk-serial::before {content: \"\";position: absolute;border-left: 1px solid gray;box-sizing: border-box;top: 0;bottom: 0;left: 50%;z-index: 0;}#sk-container-id-9 div.sk-serial {display: flex;flex-direction: column;align-items: center;background-color: white;padding-right: 0.2em;padding-left: 0.2em;position: relative;}#sk-container-id-9 div.sk-item {position: relative;z-index: 1;}#sk-container-id-9 div.sk-parallel {display: flex;align-items: stretch;justify-content: center;background-color: white;position: relative;}#sk-container-id-9 div.sk-item::before, #sk-container-id-9 div.sk-parallel-item::before {content: \"\";position: absolute;border-left: 1px solid gray;box-sizing: border-box;top: 0;bottom: 0;left: 50%;z-index: -1;}#sk-container-id-9 div.sk-parallel-item {display: flex;flex-direction: column;z-index: 1;position: relative;background-color: white;}#sk-container-id-9 div.sk-parallel-item:first-child::after {align-self: flex-end;width: 50%;}#sk-container-id-9 div.sk-parallel-item:last-child::after {align-self: flex-start;width: 50%;}#sk-container-id-9 div.sk-parallel-item:only-child::after {width: 0;}#sk-container-id-9 div.sk-dashed-wrapped {border: 1px dashed gray;margin: 0 0.4em 0.5em 0.4em;box-sizing: border-box;padding-bottom: 0.4em;background-color: white;}#sk-container-id-9 div.sk-label label {font-family: monospace;font-weight: bold;display: inline-block;line-height: 1.2em;}#sk-container-id-9 div.sk-label-container {text-align: center;}#sk-container-id-9 div.sk-container {/* jupyter's `normalize.less` sets `[hidden] { display: none; }` but bootstrap.min.css set `[hidden] { display: none !important; }` so we also need the `!important` here to be able to override the default hidden behavior on the sphinx rendered scikit-learn.org. See: https://github.com/scikit-learn/scikit-learn/issues/21755 */display: inline-block !important;position: relative;}#sk-container-id-9 div.sk-text-repr-fallback {display: none;}</style><div id=\"sk-container-id-9\" class=\"sk-top-container\"><div class=\"sk-text-repr-fallback\"><pre>RandomForestClassifier(random_state=42)</pre><b>In a Jupyter environment, please rerun this cell to show the HTML representation or trust the notebook. <br />On GitHub, the HTML representation is unable to render, please try loading this page with nbviewer.org.</b></div><div class=\"sk-container\" hidden><div class=\"sk-item\"><div class=\"sk-estimator sk-toggleable\"><input class=\"sk-toggleable__control sk-hidden--visually\" id=\"sk-estimator-id-15\" type=\"checkbox\" checked><label for=\"sk-estimator-id-15\" class=\"sk-toggleable__label sk-toggleable__label-arrow\">RandomForestClassifier</label><div class=\"sk-toggleable__content\"><pre>RandomForestClassifier(random_state=42)</pre></div></div></div></div></div>"
      ],
      "text/plain": [
       "RandomForestClassifier(random_state=42)"
      ]
     },
     "execution_count": 211,
     "metadata": {},
     "output_type": "execute_result"
    }
   ],
   "source": [
    "model = RandomForestClassifier(n_estimators=100, random_state=42)\n",
    "model.fit(X_train, y_train)"
   ]
  },
  {
   "cell_type": "code",
   "execution_count": 212,
   "id": "375e4822",
   "metadata": {},
   "outputs": [],
   "source": [
    "y_val_pred = model.predict(X_val)"
   ]
  },
  {
   "cell_type": "code",
   "execution_count": 213,
   "id": "c1236538",
   "metadata": {},
   "outputs": [
    {
     "name": "stdout",
     "output_type": "stream",
     "text": [
      "Validation Accuracy: 0.7666666666666667\n"
     ]
    }
   ],
   "source": [
    "print(f'Validation Accuracy: {accuracy_score(y_val, y_val_pred)}')"
   ]
  },
  {
   "cell_type": "code",
   "execution_count": null,
   "id": "61fa6d0c",
   "metadata": {},
   "outputs": [],
   "source": []
  }
 ],
 "metadata": {
  "kernelspec": {
   "display_name": "Python 3 (ipykernel)",
   "language": "python",
   "name": "python3"
  },
  "language_info": {
   "codemirror_mode": {
    "name": "ipython",
    "version": 3
   },
   "file_extension": ".py",
   "mimetype": "text/x-python",
   "name": "python",
   "nbconvert_exporter": "python",
   "pygments_lexer": "ipython3",
   "version": "3.11.5"
  }
 },
 "nbformat": 4,
 "nbformat_minor": 5
}
